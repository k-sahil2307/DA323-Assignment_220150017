{
 "cells": [
  {
   "cell_type": "code",
   "execution_count": 3,
   "id": "ed36f78b-daa8-48da-a0a0-2023d754032a",
   "metadata": {},
   "outputs": [
    {
     "name": "stdout",
     "output_type": "stream",
     "text": [
      "Requirement already satisfied: selenium in c:\\users\\sahil kumar\\appdata\\local\\programs\\python\\python312\\lib\\site-packages (4.29.0)\n",
      "Requirement already satisfied: urllib3[socks]<3,>=1.26 in c:\\users\\sahil kumar\\appdata\\local\\programs\\python\\python312\\lib\\site-packages (from selenium) (2.2.3)\n",
      "Requirement already satisfied: trio~=0.17 in c:\\users\\sahil kumar\\appdata\\local\\programs\\python\\python312\\lib\\site-packages (from selenium) (0.29.0)\n",
      "Requirement already satisfied: trio-websocket~=0.9 in c:\\users\\sahil kumar\\appdata\\local\\programs\\python\\python312\\lib\\site-packages (from selenium) (0.12.2)\n",
      "Requirement already satisfied: certifi>=2021.10.8 in c:\\users\\sahil kumar\\appdata\\local\\programs\\python\\python312\\lib\\site-packages (from selenium) (2024.8.30)\n",
      "Requirement already satisfied: typing_extensions~=4.9 in c:\\users\\sahil kumar\\appdata\\local\\programs\\python\\python312\\lib\\site-packages (from selenium) (4.12.2)\n",
      "Requirement already satisfied: websocket-client~=1.8 in c:\\users\\sahil kumar\\appdata\\local\\programs\\python\\python312\\lib\\site-packages (from selenium) (1.8.0)\n",
      "Requirement already satisfied: attrs>=23.2.0 in c:\\users\\sahil kumar\\appdata\\local\\programs\\python\\python312\\lib\\site-packages (from trio~=0.17->selenium) (24.2.0)\n",
      "Requirement already satisfied: sortedcontainers in c:\\users\\sahil kumar\\appdata\\local\\programs\\python\\python312\\lib\\site-packages (from trio~=0.17->selenium) (2.4.0)\n",
      "Requirement already satisfied: idna in c:\\users\\sahil kumar\\appdata\\local\\programs\\python\\python312\\lib\\site-packages (from trio~=0.17->selenium) (3.10)\n",
      "Requirement already satisfied: outcome in c:\\users\\sahil kumar\\appdata\\local\\programs\\python\\python312\\lib\\site-packages (from trio~=0.17->selenium) (1.3.0.post0)\n",
      "Requirement already satisfied: sniffio>=1.3.0 in c:\\users\\sahil kumar\\appdata\\local\\programs\\python\\python312\\lib\\site-packages (from trio~=0.17->selenium) (1.3.1)\n",
      "Requirement already satisfied: cffi>=1.14 in c:\\users\\sahil kumar\\appdata\\local\\programs\\python\\python312\\lib\\site-packages (from trio~=0.17->selenium) (1.17.1)\n",
      "Requirement already satisfied: wsproto>=0.14 in c:\\users\\sahil kumar\\appdata\\local\\programs\\python\\python312\\lib\\site-packages (from trio-websocket~=0.9->selenium) (1.2.0)\n",
      "Requirement already satisfied: pysocks!=1.5.7,<2.0,>=1.5.6 in c:\\users\\sahil kumar\\appdata\\local\\programs\\python\\python312\\lib\\site-packages (from urllib3[socks]<3,>=1.26->selenium) (1.7.1)\n",
      "Requirement already satisfied: pycparser in c:\\users\\sahil kumar\\appdata\\local\\programs\\python\\python312\\lib\\site-packages (from cffi>=1.14->trio~=0.17->selenium) (2.22)\n",
      "Requirement already satisfied: h11<1,>=0.9.0 in c:\\users\\sahil kumar\\appdata\\local\\programs\\python\\python312\\lib\\site-packages (from wsproto>=0.14->trio-websocket~=0.9->selenium) (0.14.0)\n",
      "Note: you may need to restart the kernel to use updated packages.\n"
     ]
    },
    {
     "name": "stderr",
     "output_type": "stream",
     "text": [
      "\n",
      "[notice] A new release of pip is available: 23.2.1 -> 25.0.1\n",
      "[notice] To update, run: python.exe -m pip install --upgrade pip\n"
     ]
    }
   ],
   "source": [
    "pip install selenium\n"
   ]
  },
  {
   "cell_type": "code",
   "execution_count": 4,
   "id": "303a6da0-62a2-4e39-bc4f-94d4b2afdd74",
   "metadata": {},
   "outputs": [],
   "source": [
    "import os\n",
    "import time\n",
    "import requests\n",
    "import pandas as pd\n",
    "from selenium import webdriver\n",
    "from selenium.webdriver.common.by import By\n",
    "from selenium.webdriver.common.keys import Keys\n",
    "from PIL import Image, UnidentifiedImageError\n",
    "\n"
   ]
  },
  {
   "cell_type": "code",
   "execution_count": 5,
   "id": "42e606f7-508f-44be-8e5a-b4a155bac690",
   "metadata": {},
   "outputs": [],
   "source": [
    "labels = [\n",
    "    \"cats\", \"dogs\", \"birds\", \"cars\", \"airplanes\", \"mountains\", \"beaches\", \"flowers\",\n",
    "    \"fruits\", \"insects\", \"trees\", \"cityscapes\", \"food\", \"boats\", \"bikes\",\n",
    "    \"historical monuments\", \"laptops\", \"watches\", \"sports equipment\", \"musical instruments\"\n",
    "]"
   ]
  },
  {
   "cell_type": "code",
   "execution_count": null,
   "id": "b5967d91-2eb0-4e54-b589-c72fe63391fc",
   "metadata": {},
   "outputs": [
    {
     "name": "stdout",
     "output_type": "stream",
     "text": [
      "Skipping cats_4.jpg: Invalid image file.\n",
      "Skipping dogs_4.jpg: Invalid image file.\n",
      "Skipping birds_4.jpg: Invalid image file.\n",
      "Skipping cars_5.jpg: Invalid image file.\n",
      "Skipping airplanes_4.jpg: Invalid image file.\n",
      "Skipping mountains_4.jpg: Invalid image file.\n",
      "Skipping beaches_3.jpg: Invalid image file.\n"
     ]
    }
   ],
   "source": [
    "#setting up webdriver\n",
    "chrome_options = webdriver.ChromeOptions()\n",
    "chrome_options.add_argument(\"--headless\")\n",
    "driver = webdriver.Chrome(options=chrome_options)\n",
    "\n",
    "dataset_path = \"image_dataset\"\n",
    "os.makedirs(dataset_path, exist_ok=True)\n",
    "\n",
    "metadata = []\n",
    "\n",
    "def download_image(url, folder, filename):\n",
    "    try:\n",
    "        response = requests.get(url, timeout=5)\n",
    "        if response.status_code == 200:\n",
    "            filepath = os.path.join(folder, filename)\n",
    "            with open(filepath, 'wb') as f:\n",
    "                f.write(response.content)\n",
    "\n",
    "            try:\n",
    "                with Image.open(filepath) as img:\n",
    "                    img.verify()  \n",
    "                    img = Image.open(filepath).convert(\"RGB\") \n",
    "                    jpg_filepath = filepath.replace(\".jpg\", \".jpeg\") \n",
    "                    img.save(jpg_filepath, \"JPEG\")\n",
    "                    os.remove(filepath)  \n",
    "                    return jpg_filepath, img.width, img.height\n",
    "            except UnidentifiedImageError:\n",
    "                print(f\"Skipping {filename}: Invalid image file.\")\n",
    "                os.remove(filepath)  \n",
    "                \n",
    "    except Exception as e:\n",
    "        print(f\"Error downloading {url}: {e}\")\n",
    "\n",
    "    return None, None, None\n",
    "\n",
    "\n",
    "for label in labels:\n",
    "        folder_path = os.path.join(dataset_path,label)\n",
    "        os.makedirs(folder_path, exist_ok=True)\n",
    "\n",
    "        search_url = f\"https://www.google.com/search?q={label}+photo+-stock+-clipart&tbm=isch&tbs=isz:l\"\n",
    "        driver.get(search_url)\n",
    "        time.sleep(2)\n",
    "\n",
    "        body = driver.find_element(By.TAG_NAME, 'body')\n",
    "        for _ in range(10):\n",
    "                body.send_keys(Keys.PAGE_DOWN)\n",
    "                time.sleep(4)\n",
    "\n",
    "        images = driver.find_elements(By.CSS_SELECTOR, 'img')\n",
    "        count = 0\n",
    "\n",
    "        for img in images:\n",
    "                if count>=50:\n",
    "                        break\n",
    "                src = img.get_attribute('src')\n",
    "                if src and \"http\" in src:\n",
    "                        filename = f\"{label}_{count+1}.jpg\"\n",
    "                        filepath, width, height = download_image(src,folder_path,filename)\n",
    "                        if filepath:\n",
    "                                metadata.append([label,src,filepath,width,height])\n",
    "                                count += 1\n",
    "\n",
    "df = pd.DataFrame(metadata, columns=[\"label\",\"url\",\"filepath\",\"width\",\"height\"])\n",
    "df.to_csv(os.path.join(dataset_path,\"image_metadata.csv\"), index=False)\n",
    "\n",
    "driver.quit()\n",
    "print(\"Downloaded images successfully\")"
   ]
  }
 ],
 "metadata": {
  "kernelspec": {
   "display_name": "Python 3 (ipykernel)",
   "language": "python",
   "name": "python3"
  },
  "language_info": {
   "codemirror_mode": {
    "name": "ipython",
    "version": 3
   },
   "file_extension": ".py",
   "mimetype": "text/x-python",
   "name": "python",
   "nbconvert_exporter": "python",
   "pygments_lexer": "ipython3",
   "version": "3.12.1"
  }
 },
 "nbformat": 4,
 "nbformat_minor": 5
}
