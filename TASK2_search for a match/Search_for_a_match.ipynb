{
 "cells": [
  {
   "cell_type": "code",
   "execution_count": 10,
   "id": "c00b22d8-7985-4dfc-9a5a-7d46033da59b",
   "metadata": {},
   "outputs": [
    {
     "name": "stdout",
     "output_type": "stream",
     "text": [
      "Requirement already satisfied: librosa in c:\\users\\sahil kumar\\appdata\\local\\programs\\python\\python312\\lib\\site-packages (0.11.0)\n",
      "Requirement already satisfied: audioread>=2.1.9 in c:\\users\\sahil kumar\\appdata\\local\\programs\\python\\python312\\lib\\site-packages (from librosa) (3.0.1)\n",
      "Requirement already satisfied: numba>=0.51.0 in c:\\users\\sahil kumar\\appdata\\local\\programs\\python\\python312\\lib\\site-packages (from librosa) (0.61.0)\n",
      "Requirement already satisfied: numpy>=1.22.3 in c:\\users\\sahil kumar\\appdata\\local\\programs\\python\\python312\\lib\\site-packages (from librosa) (2.1.3)\n",
      "Requirement already satisfied: scipy>=1.6.0 in c:\\users\\sahil kumar\\appdata\\local\\programs\\python\\python312\\lib\\site-packages (from librosa) (1.14.1)\n",
      "Requirement already satisfied: scikit-learn>=1.1.0 in c:\\users\\sahil kumar\\appdata\\local\\programs\\python\\python312\\lib\\site-packages (from librosa) (1.5.2)\n",
      "Requirement already satisfied: joblib>=1.0 in c:\\users\\sahil kumar\\appdata\\local\\programs\\python\\python312\\lib\\site-packages (from librosa) (1.4.2)\n",
      "Requirement already satisfied: decorator>=4.3.0 in c:\\users\\sahil kumar\\appdata\\local\\programs\\python\\python312\\lib\\site-packages (from librosa) (5.1.1)\n",
      "Requirement already satisfied: soundfile>=0.12.1 in c:\\users\\sahil kumar\\appdata\\local\\programs\\python\\python312\\lib\\site-packages (from librosa) (0.13.1)\n",
      "Requirement already satisfied: pooch>=1.1 in c:\\users\\sahil kumar\\appdata\\local\\programs\\python\\python312\\lib\\site-packages (from librosa) (1.8.2)\n",
      "Requirement already satisfied: soxr>=0.3.2 in c:\\users\\sahil kumar\\appdata\\local\\programs\\python\\python312\\lib\\site-packages (from librosa) (0.5.0.post1)\n",
      "Requirement already satisfied: typing_extensions>=4.1.1 in c:\\users\\sahil kumar\\appdata\\local\\programs\\python\\python312\\lib\\site-packages (from librosa) (4.12.2)\n",
      "Requirement already satisfied: lazy_loader>=0.1 in c:\\users\\sahil kumar\\appdata\\local\\programs\\python\\python312\\lib\\site-packages (from librosa) (0.4)\n",
      "Requirement already satisfied: msgpack>=1.0 in c:\\users\\sahil kumar\\appdata\\local\\programs\\python\\python312\\lib\\site-packages (from librosa) (1.1.0)\n",
      "Requirement already satisfied: packaging in c:\\users\\sahil kumar\\appdata\\local\\programs\\python\\python312\\lib\\site-packages (from lazy_loader>=0.1->librosa) (24.1)\n",
      "Requirement already satisfied: llvmlite<0.45,>=0.44.0dev0 in c:\\users\\sahil kumar\\appdata\\local\\programs\\python\\python312\\lib\\site-packages (from numba>=0.51.0->librosa) (0.44.0)\n",
      "Requirement already satisfied: platformdirs>=2.5.0 in c:\\users\\sahil kumar\\appdata\\local\\programs\\python\\python312\\lib\\site-packages (from pooch>=1.1->librosa) (4.3.6)\n",
      "Requirement already satisfied: requests>=2.19.0 in c:\\users\\sahil kumar\\appdata\\local\\programs\\python\\python312\\lib\\site-packages (from pooch>=1.1->librosa) (2.32.3)\n",
      "Requirement already satisfied: threadpoolctl>=3.1.0 in c:\\users\\sahil kumar\\appdata\\local\\programs\\python\\python312\\lib\\site-packages (from scikit-learn>=1.1.0->librosa) (3.5.0)\n",
      "Requirement already satisfied: cffi>=1.0 in c:\\users\\sahil kumar\\appdata\\local\\programs\\python\\python312\\lib\\site-packages (from soundfile>=0.12.1->librosa) (1.17.1)\n",
      "Requirement already satisfied: pycparser in c:\\users\\sahil kumar\\appdata\\local\\programs\\python\\python312\\lib\\site-packages (from cffi>=1.0->soundfile>=0.12.1->librosa) (2.22)\n",
      "Requirement already satisfied: charset-normalizer<4,>=2 in c:\\users\\sahil kumar\\appdata\\local\\programs\\python\\python312\\lib\\site-packages (from requests>=2.19.0->pooch>=1.1->librosa) (3.4.0)\n",
      "Requirement already satisfied: idna<4,>=2.5 in c:\\users\\sahil kumar\\appdata\\local\\programs\\python\\python312\\lib\\site-packages (from requests>=2.19.0->pooch>=1.1->librosa) (3.10)\n",
      "Requirement already satisfied: urllib3<3,>=1.21.1 in c:\\users\\sahil kumar\\appdata\\local\\programs\\python\\python312\\lib\\site-packages (from requests>=2.19.0->pooch>=1.1->librosa) (2.2.3)\n",
      "Requirement already satisfied: certifi>=2017.4.17 in c:\\users\\sahil kumar\\appdata\\local\\programs\\python\\python312\\lib\\site-packages (from requests>=2.19.0->pooch>=1.1->librosa) (2024.8.30)\n"
     ]
    },
    {
     "name": "stderr",
     "output_type": "stream",
     "text": [
      "\n",
      "[notice] A new release of pip is available: 23.2.1 -> 25.0.1\n",
      "[notice] To update, run: python.exe -m pip install --upgrade pip\n"
     ]
    },
    {
     "name": "stdout",
     "output_type": "stream",
     "text": [
      "Requirement already satisfied: opencv-python in c:\\users\\sahil kumar\\appdata\\local\\programs\\python\\python312\\lib\\site-packages (4.11.0.86)\n",
      "Requirement already satisfied: numpy>=1.21.2 in c:\\users\\sahil kumar\\appdata\\local\\programs\\python\\python312\\lib\\site-packages (from opencv-python) (2.1.3)\n"
     ]
    },
    {
     "name": "stderr",
     "output_type": "stream",
     "text": [
      "\n",
      "[notice] A new release of pip is available: 23.2.1 -> 25.0.1\n",
      "[notice] To update, run: python.exe -m pip install --upgrade pip\n"
     ]
    },
    {
     "name": "stdout",
     "output_type": "stream",
     "text": [
      "Collecting fastdtw\n",
      "  Using cached fastdtw-0.3.4.tar.gz (133 kB)\n",
      "  Installing build dependencies: started\n",
      "  Installing build dependencies: finished with status 'done'\n",
      "  Getting requirements to build wheel: started\n",
      "  Getting requirements to build wheel: finished with status 'done'\n",
      "  Preparing metadata (pyproject.toml): started\n",
      "  Preparing metadata (pyproject.toml): finished with status 'done'\n",
      "Requirement already satisfied: numpy in c:\\users\\sahil kumar\\appdata\\local\\programs\\python\\python312\\lib\\site-packages (from fastdtw) (2.1.3)\n",
      "Building wheels for collected packages: fastdtw\n",
      "  Building wheel for fastdtw (pyproject.toml): started\n",
      "  Building wheel for fastdtw (pyproject.toml): finished with status 'done'\n",
      "  Created wheel for fastdtw: filename=fastdtw-0.3.4-py3-none-any.whl size=3634 sha256=6e574d80c7159e1655ee85d66a4f902baad07981850e66868682e7d94005b6d3\n",
      "  Stored in directory: c:\\users\\sahil kumar\\appdata\\local\\pip\\cache\\wheels\\ab\\d0\\26\\b82cb0f49ae73e5e6bba4e8462fff2c9851d7bd2ec64f8891e\n",
      "Successfully built fastdtw\n",
      "Installing collected packages: fastdtw\n",
      "Successfully installed fastdtw-0.3.4\n"
     ]
    },
    {
     "name": "stderr",
     "output_type": "stream",
     "text": [
      "\n",
      "[notice] A new release of pip is available: 23.2.1 -> 25.0.1\n",
      "[notice] To update, run: python.exe -m pip install --upgrade pip\n"
     ]
    }
   ],
   "source": [
    "!pip install librosa\n",
    "!pip install opencv-python\n",
    "!pip install fastdtw\n",
    "\n",
    "\n",
    "\n",
    "import librosa\n",
    "import numpy as np\n",
    "import pandas as pd\n",
    "import os\n",
    "import cv2\n",
    "from fastdtw import fastdtw\n",
    "from scipy.spatial.distance import euclidean"
   ]
  },
  {
   "cell_type": "code",
   "execution_count": 11,
   "id": "1323d29c-5d67-445c-b99e-cbfd6428f2a0",
   "metadata": {},
   "outputs": [],
   "source": [
    "def extract_audio_features(audio_path, sr=22050, n_mfcc=13):\n",
    "    y, sr = librosa.load(audio_path, sr=sr)\n",
    "    mfccs = librosa.feature.mfcc(y=y, sr=sr, n_mfcc=n_mfcc)\n",
    "    return np.mean(mfccs, axis=1)"
   ]
  },
  {
   "cell_type": "code",
   "execution_count": 12,
   "id": "5b7fff75-4218-42e2-be16-60e3de8409de",
   "metadata": {},
   "outputs": [],
   "source": [
    "def extract_video_features(video_path):\n",
    "    cap = cv2.VideoCapture(video_path)\n",
    "    prev_gray = None\n",
    "    motion_vectors = []\n",
    "\n",
    "    while cap.isOpened():\n",
    "        ret, frame = cap.read()\n",
    "        if not ret:\n",
    "            break\n",
    "\n",
    "        gray = cv2.cvtColor(frame, cv2.COLOR_BGR2GRAY)\n",
    "\n",
    "        if prev_gray is not None:\n",
    "            flow = cv2.calcOpticalFlowFarneback(prev_gray, gray, None, 0.5, 3, 15, 3, 5, 1.2, 0)\n",
    "            motion_vectors.append(np.mean(flow))  # Mean flow per frame\n",
    "\n",
    "        prev_gray = gray\n",
    "\n",
    "    cap.release()\n",
    "    return np.array(motion_vectors)\n"
   ]
  },
  {
   "cell_type": "code",
   "execution_count": 13,
   "id": "3ed296b7-4092-420c-9c09-0adfec38dc44",
   "metadata": {},
   "outputs": [],
   "source": [
    "import numpy as np\n",
    "from fastdtw import fastdtw\n",
    "from scipy.spatial.distance import euclidean\n",
    "\n",
    "def compute_similarity(audio_features, video_features):\n",
    "    # Convert to NumPy arrays and ensure they are 1D\n",
    "    audio_features = np.asarray(audio_features).ravel()\n",
    "    video_features = np.asarray(video_features).ravel()\n",
    "\n",
    "    # Compute DTW distance\n",
    "    distance, _ = fastdtw(audio_features, video_features, dist=euclidean)\n",
    "    return distance\n"
   ]
  },
  {
   "cell_type": "code",
   "execution_count": 15,
   "id": "da6ada66-8aaf-4a42-aea0-c3de5cc0ef1e",
   "metadata": {},
   "outputs": [],
   "source": [
    "\n",
    "\n",
    "audio_folder = \"audio_only\"\n",
    "video_folder = \"video_only\"\n",
    "\n",
    "audio_files = sorted(os.listdir(audio_folder))\n",
    "video_files = sorted(os.listdir(video_folder))\n",
    "\n",
    "results = []\n",
    "\n",
    "\n",
    "\n"
   ]
  },
  {
   "cell_type": "code",
   "execution_count": 16,
   "id": "1b43ba2c-6f70-4912-8999-890f01a16909",
   "metadata": {},
   "outputs": [],
   "source": [
    "audio_features_dict = {audio: extract_audio_features(os.path.join(audio_folder, audio)) for audio in audio_files}"
   ]
  },
  {
   "cell_type": "code",
   "execution_count": 18,
   "id": "f8212885-6efa-46b4-84aa-340e5595a9ac",
   "metadata": {},
   "outputs": [
    {
     "name": "stderr",
     "output_type": "stream",
     "text": [
      "\n",
      "[notice] A new release of pip is available: 23.2.1 -> 25.0.1\n",
      "[notice] To update, run: python.exe -m pip install --upgrade pip\n"
     ]
    },
    {
     "name": "stdout",
     "output_type": "stream",
     "text": [
      "Collecting tqdm\n",
      "  Obtaining dependency information for tqdm from https://files.pythonhosted.org/packages/d0/30/dc54f88dd4a2b5dc8a0279bdd7270e735851848b762aeb1c1184ed1f6b14/tqdm-4.67.1-py3-none-any.whl.metadata\n",
      "  Downloading tqdm-4.67.1-py3-none-any.whl.metadata (57 kB)\n",
      "     ---------------------------------------- 0.0/57.7 kB ? eta -:--:--\n",
      "     ------- -------------------------------- 10.2/57.7 kB ? eta -:--:--\n",
      "     ------------- ------------------------ 20.5/57.7 kB 162.5 kB/s eta 0:00:01\n",
      "     -------------------------- ----------- 41.0/57.7 kB 245.8 kB/s eta 0:00:01\n",
      "     -------------------------------------- 57.7/57.7 kB 302.1 kB/s eta 0:00:00\n",
      "Requirement already satisfied: colorama in c:\\users\\sahil kumar\\appdata\\local\\programs\\python\\python312\\lib\\site-packages (from tqdm) (0.4.6)\n",
      "Downloading tqdm-4.67.1-py3-none-any.whl (78 kB)\n",
      "   ---------------------------------------- 0.0/78.5 kB ? eta -:--:--\n",
      "   -------------------- ------------------- 41.0/78.5 kB 2.0 MB/s eta 0:00:01\n",
      "   ------------------------------- -------- 61.4/78.5 kB 825.8 kB/s eta 0:00:01\n",
      "   ---------------------------------------- 78.5/78.5 kB 875.6 kB/s eta 0:00:00\n",
      "Installing collected packages: tqdm\n",
      "Successfully installed tqdm-4.67.1\n"
     ]
    },
    {
     "name": "stderr",
     "output_type": "stream",
     "text": [
      "Extracting video features: 100%|███████████████████████████████████████████████████████| 45/45 [22:48<00:00, 30.40s/it]\n"
     ]
    }
   ],
   "source": [
    "!pip install tqdm\n",
    "\n",
    "from tqdm import tqdm\n",
    "\n",
    "video_features_dict = {\n",
    "    video: extract_video_features(os.path.join(video_folder, video))\n",
    "    for video in tqdm(video_files, desc=\"Extracting video features\")\n",
    "}\n"
   ]
  },
  {
   "cell_type": "code",
   "execution_count": 25,
   "id": "42b5ba49-f208-4c66-927a-624dc1e545e0",
   "metadata": {},
   "outputs": [],
   "source": [
    "import numpy as np\n",
    "from fastdtw import fastdtw\n",
    "from scipy.spatial.distance import euclidean\n",
    "\n",
    "def compute_similarity(audio_features, video_features):\n",
    "    # Convert to numpy arrays and ensure they are 1-D\n",
    "    audio_features = np.asarray(audio_features).flatten()\n",
    "    video_features = np.asarray(video_features).flatten()\n",
    "\n",
    "    # Handle empty feature arrays\n",
    "    if audio_features.size == 0 or video_features.size == 0:\n",
    "        return float(\"inf\") \n",
    "    # Compute DTW distance\n",
    "    distance, _ = fastdtw(audio_features, video_features, dist=euclidean)\n",
    "    return distance\n"
   ]
  },
  {
   "cell_type": "code",
   "execution_count": 26,
   "id": "8c4c9842-fdbf-402c-b485-14d54180db98",
   "metadata": {},
   "outputs": [
    {
     "name": "stdout",
     "output_type": "stream",
     "text": [
      "Audio: audio_only_ID_1.wav, Shape: (13,)\n",
      "Audio: audio_only_ID_10.wav, Shape: (13,)\n",
      "Audio: audio_only_ID_11.wav, Shape: (13,)\n",
      "Audio: audio_only_ID_12.wav, Shape: (13,)\n",
      "Audio: audio_only_ID_13.wav, Shape: (13,)\n",
      "Audio: audio_only_ID_14.wav, Shape: (13,)\n",
      "Audio: audio_only_ID_15.wav, Shape: (13,)\n",
      "Audio: audio_only_ID_16.wav, Shape: (13,)\n",
      "Audio: audio_only_ID_17.wav, Shape: (13,)\n",
      "Audio: audio_only_ID_18.wav, Shape: (13,)\n",
      "Audio: audio_only_ID_19.wav, Shape: (13,)\n",
      "Audio: audio_only_ID_2.wav, Shape: (13,)\n",
      "Audio: audio_only_ID_20.wav, Shape: (13,)\n",
      "Audio: audio_only_ID_21.wav, Shape: (13,)\n",
      "Audio: audio_only_ID_22.wav, Shape: (13,)\n",
      "Audio: audio_only_ID_23.wav, Shape: (13,)\n",
      "Audio: audio_only_ID_24.wav, Shape: (13,)\n",
      "Audio: audio_only_ID_25.wav, Shape: (13,)\n",
      "Audio: audio_only_ID_26.wav, Shape: (13,)\n",
      "Audio: audio_only_ID_27.wav, Shape: (13,)\n",
      "Audio: audio_only_ID_28.wav, Shape: (13,)\n",
      "Audio: audio_only_ID_29.wav, Shape: (13,)\n",
      "Audio: audio_only_ID_3.wav, Shape: (13,)\n",
      "Audio: audio_only_ID_30.wav, Shape: (13,)\n",
      "Audio: audio_only_ID_31.wav, Shape: (13,)\n",
      "Audio: audio_only_ID_32.wav, Shape: (13,)\n",
      "Audio: audio_only_ID_33.wav, Shape: (13,)\n",
      "Audio: audio_only_ID_34.wav, Shape: (13,)\n",
      "Audio: audio_only_ID_35.wav, Shape: (13,)\n",
      "Audio: audio_only_ID_36.wav, Shape: (13,)\n",
      "Audio: audio_only_ID_37.wav, Shape: (13,)\n",
      "Audio: audio_only_ID_38.wav, Shape: (13,)\n",
      "Audio: audio_only_ID_39.wav, Shape: (13,)\n",
      "Audio: audio_only_ID_4.wav, Shape: (13,)\n",
      "Audio: audio_only_ID_40.wav, Shape: (13,)\n",
      "Audio: audio_only_ID_41.wav, Shape: (13,)\n",
      "Audio: audio_only_ID_42.wav, Shape: (13,)\n",
      "Audio: audio_only_ID_43.wav, Shape: (13,)\n",
      "Audio: audio_only_ID_44.wav, Shape: (13,)\n",
      "Audio: audio_only_ID_45.wav, Shape: (13,)\n",
      "Audio: audio_only_ID_5.wav, Shape: (13,)\n",
      "Audio: audio_only_ID_6.wav, Shape: (13,)\n",
      "Audio: audio_only_ID_7.wav, Shape: (13,)\n",
      "Audio: audio_only_ID_8.wav, Shape: (13,)\n",
      "Audio: audio_only_ID_9.wav, Shape: (13,)\n",
      "Video: video_only_ID_1.mp4, Shape: (1199,)\n",
      "Video: video_only_ID_10.mp4, Shape: (1199,)\n",
      "Video: video_only_ID_11.mp4, Shape: (1199,)\n",
      "Video: video_only_ID_12.mp4, Shape: (1199,)\n",
      "Video: video_only_ID_13.mp4, Shape: (1199,)\n",
      "Video: video_only_ID_14.mp4, Shape: (1199,)\n",
      "Video: video_only_ID_15.mp4, Shape: (1199,)\n",
      "Video: video_only_ID_16.mp4, Shape: (1199,)\n",
      "Video: video_only_ID_17.mp4, Shape: (1199,)\n",
      "Video: video_only_ID_18.mp4, Shape: (1199,)\n",
      "Video: video_only_ID_19.mp4, Shape: (1199,)\n",
      "Video: video_only_ID_2.mp4, Shape: (1199,)\n",
      "Video: video_only_ID_20.mp4, Shape: (1199,)\n",
      "Video: video_only_ID_21.mp4, Shape: (1199,)\n",
      "Video: video_only_ID_22.mp4, Shape: (1199,)\n",
      "Video: video_only_ID_23.mp4, Shape: (1199,)\n",
      "Video: video_only_ID_24.mp4, Shape: (1199,)\n",
      "Video: video_only_ID_25.mp4, Shape: (1199,)\n",
      "Video: video_only_ID_26.mp4, Shape: (1199,)\n",
      "Video: video_only_ID_27.mp4, Shape: (1199,)\n",
      "Video: video_only_ID_28.mp4, Shape: (1199,)\n",
      "Video: video_only_ID_29.mp4, Shape: (1199,)\n",
      "Video: video_only_ID_3.mp4, Shape: (1199,)\n",
      "Video: video_only_ID_30.mp4, Shape: (1199,)\n",
      "Video: video_only_ID_31.mp4, Shape: (1199,)\n",
      "Video: video_only_ID_32.mp4, Shape: (1199,)\n",
      "Video: video_only_ID_33.mp4, Shape: (1199,)\n",
      "Video: video_only_ID_34.mp4, Shape: (1199,)\n",
      "Video: video_only_ID_35.mp4, Shape: (1199,)\n",
      "Video: video_only_ID_36.mp4, Shape: (1199,)\n",
      "Video: video_only_ID_37.mp4, Shape: (1199,)\n",
      "Video: video_only_ID_38.mp4, Shape: (1199,)\n",
      "Video: video_only_ID_39.mp4, Shape: (1199,)\n",
      "Video: video_only_ID_4.mp4, Shape: (1199,)\n",
      "Video: video_only_ID_40.mp4, Shape: (1199,)\n",
      "Video: video_only_ID_41.mp4, Shape: (1199,)\n",
      "Video: video_only_ID_42.mp4, Shape: (1199,)\n",
      "Video: video_only_ID_43.mp4, Shape: (1199,)\n",
      "Video: video_only_ID_44.mp4, Shape: (1199,)\n",
      "Video: video_only_ID_45.mp4, Shape: (1199,)\n",
      "Video: video_only_ID_5.mp4, Shape: (1199,)\n",
      "Video: video_only_ID_6.mp4, Shape: (1199,)\n",
      "Video: video_only_ID_7.mp4, Shape: (1199,)\n",
      "Video: video_only_ID_8.mp4, Shape: (1199,)\n",
      "Video: video_only_ID_9.mp4, Shape: (1199,)\n"
     ]
    }
   ],
   "source": [
    "for audio in audio_files:\n",
    "    print(f\"Audio: {audio}, Shape: {np.asarray(audio_features_dict[audio]).shape}\")\n",
    "for video in video_files:\n",
    "    print(f\"Video: {video}, Shape: {np.asarray(video_features_dict[video]).shape}\")\n"
   ]
  },
  {
   "cell_type": "code",
   "execution_count": 28,
   "id": "8838ef89-68e5-4175-9b05-8cb8a17b6973",
   "metadata": {},
   "outputs": [],
   "source": [
    "import numpy as np\n",
    "from fastdtw import fastdtw\n",
    "from scipy.spatial.distance import euclidean\n",
    "\n",
    "def compute_similarity(audio_features, video_features):\n",
    "    # Convert to numpy arrays\n",
    "    audio_features = np.asarray(audio_features)\n",
    "    video_features = np.asarray(video_features)\n",
    "\n",
    "    # Ensure features are 1-D\n",
    "    if audio_features.ndim > 1:\n",
    "        audio_features = audio_features.flatten()\n",
    "    if video_features.ndim > 1:\n",
    "        video_features = video_features.flatten()\n",
    "\n",
    "    # Handle empty arrays\n",
    "    if audio_features.size == 0 or video_features.size == 0:\n",
    "        return float(\"inf\")  # Large distance for invalid inputs\n",
    "\n",
    "    # Compute DTW distance\n",
    "    distance, _ = fastdtw(audio_features, video_features, dist=euclidean)\n",
    "    return distance\n"
   ]
  },
  {
   "cell_type": "code",
   "execution_count": 29,
   "id": "a9f3a5af-6d29-48bd-b37d-a521e81bc0b4",
   "metadata": {},
   "outputs": [],
   "source": [
    "\n",
    "audio_features_dict = {k: np.array(v) for k, v in audio_features_dict.items()}\n",
    "video_features_dict = {k: np.array(v) for k, v in video_features_dict.items()}\n"
   ]
  },
  {
   "cell_type": "code",
   "execution_count": null,
   "id": "76bbd4dd-0f9b-4814-be5f-c1863dff4fcd",
   "metadata": {},
   "outputs": [],
   "source": [
    "for audio in tqdm(audio_files, desc=\"Matching audio to video\"):\n",
    "    print(f\"Processing Audio: {audio}\")\n",
    "    \n",
    "    for video in video_files:\n",
    "        print(f\"Comparing with Video: {video}\")\n",
    "        \n",
    "        # Check feature shapes\n",
    "        print(f\"Audio Shape: {audio_features_dict[audio].shape}, Video Shape: {video_features_dict[video].shape}\")\n",
    "\n",
    "        similarity_score = compute_similarity(audio_features_dict[audio], video_features_dict[video])\n"
   ]
  },
  {
   "cell_type": "code",
   "execution_count": null,
   "id": "9365dfe1-774f-4814-952c-9ebb29b8fbca",
   "metadata": {},
   "outputs": [],
   "source": [
    "# Iterate through each audio file and find the best matching video\n",
    "for audio in tqdm(audio_files, desc=\"Matching audio to video\"):\n",
    "    best_match, best_score = None, float(\"inf\")\n",
    "\n",
    "    # Compare audio with all video files\n",
    "    for video in video_files:\n",
    "        similarity_score = compute_similarity(audio_features_dict[audio], video_features_dict[video])\n",
    "\n",
    "        if similarity_score < best_score:\n",
    "            best_score, best_match = similarity_score, video\n",
    "\n",
    "    # Store the best match result\n",
    "    results.append((audio, best_match))\n",
    "\n",
    "# Save the results to a CSV file\n",
    "pd.DataFrame(results, columns=[\"audio_file\", \"video_file\"]).to_csv(\"matched_audio_video.csv\", index=False)\n"
   ]
  },
  {
   "cell_type": "code",
   "execution_count": null,
   "id": "bfd69417-cca1-4d8f-851e-9e3984ccbe83",
   "metadata": {},
   "outputs": [],
   "source": []
  },
  {
   "cell_type": "code",
   "execution_count": null,
   "id": "fb460dca-53b3-402d-b9d4-36b082e41220",
   "metadata": {},
   "outputs": [],
   "source": []
  },
  {
   "cell_type": "code",
   "execution_count": null,
   "id": "50c620df-0698-408a-9582-e48913c04ccd",
   "metadata": {},
   "outputs": [],
   "source": []
  }
 ],
 "metadata": {
  "kernelspec": {
   "display_name": "Python 3 (ipykernel)",
   "language": "python",
   "name": "python3"
  },
  "language_info": {
   "codemirror_mode": {
    "name": "ipython",
    "version": 3
   },
   "file_extension": ".py",
   "mimetype": "text/x-python",
   "name": "python",
   "nbconvert_exporter": "python",
   "pygments_lexer": "ipython3",
   "version": "3.12.1"
  }
 },
 "nbformat": 4,
 "nbformat_minor": 5
}
